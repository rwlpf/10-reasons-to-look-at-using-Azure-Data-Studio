{
    "metadata": {
        "kernelspec": {
            "name": "SQL",
            "display_name": "SQL",
            "language": "sql"
        },
        "language_info": {
            "name": "sql",
            "version": ""
        }
    },
    "nbformat_minor": 2,
    "nbformat": 4,
    "cells": [
        {
            "cell_type": "markdown",
            "source": [
                "The following webpage will take you through the process of install Chocolately on your computer.  IMHO this is an easy and simple way to install software such as Docker on your computer.  I choose the \"Basic Chocolatey Install\" and used PowerShell to install on my computer.\n",
                "\n",
                "[https://chocolatey.org/courses/installation/installing?method=installing-chocolatey?quiz=true](https://chocolatey.org/courses/installation/installing?method=installing-chocolatey?quiz=true \"https://chocolatey.org/courses/installation/installing?method=installing-chocolatey?quiz=true\")\n",
                "\n",
                "This blog post gives details on how easy it is to install Docker on you computer using Chocolately.  Note it is now possible to run both VM Ware Workstation and Docker on the same computer as Hyper-V :-D  Yes my computer is running Hyper-V and VmWare Workstation (check with VMWare as to which min version you require)\n",
                "\n",
                "[https://stefanscherer.github.io/how-to-install-docker-the-chocolatey-way/](https://stefanscherer.github.io/how-to-install-docker-the-chocolatey-way/ \"https://stefanscherer.github.io/how-to-install-docker-the-chocolatey-way/\")\n",
                "\n",
                "Below is the link to the website that has the notebook that was shown from Glenn Berry.\n",
                "\n",
                "[https://glennsqlperformance.com/resources/](https://glennsqlperformance.com/resources/ \"https://glennsqlperformance.com/resources/\")"
            ],
            "metadata": {
                "azdata_cell_guid": "ca121478-e573-4408-a64f-898c75056aff"
            }
        },
        {
            "cell_type": "code",
            "source": [
                ""
            ],
            "metadata": {
                "azdata_cell_guid": "ddf5fb68-d6ac-4bdf-a73b-f8792ef1f759"
            },
            "outputs": [],
            "execution_count": null
        }
    ]
}